{
 "cells": [
  {
   "cell_type": "markdown",
   "metadata": {
    "colab_type": "text",
    "id": "IwILkW1F8FnJ"
   },
   "source": [
    "# Introduction\n",
    "\n",
    "Ce TP continue le TP précédent. Nous allons reprendre d'ailleurs les mêmes données et commencer la mise en oeuvre d'un modèle de Markov pour la prédiction des étiquettes: \n",
    "* une observation est une phrase, représentée comme une séquence de variables aléatoires, une par mot de la phrase\n",
    "* à cette observation est associée une séquence de variables aléatoires représentant les étiquettes, une par mot de la phrase également\n",
    "\n",
    "On suppose que la séquence d'observation (une phrase) est générée par un modèle de Markov caché. Les variables cachées sont donc les étiquettes à inférer. Nous allons commencer par écrire une classe python pour représenter le HMM. Cette classe évoluera au fil des TPs. \n",
    "\n",
    "Pour cela le code de départ suivant est donné. Afin d'initialiser un HMM, nous devons connaitre : \n",
    "- l'ensemble des états (ou *state_list*), dans notre cas l'ensemble des étiquettes grammaticales;\n",
    "- l'ensemble des observations (ou *observation_list*), dans notre cas l'ensemble des mots connus; tous les autres mots seront remplacés par l'élément spécial *UNK* qui fait partie de l'ensemble des observations. \n",
    "\n",
    "Enfin, en interne il est plus facile d'indexer les mots et et les états par des entiers. Ainsi à chaque éléments de respectivement l'ensemble des états et l'ensemble des observations, est associé un indice. Cela nous permet de tout traiter en \"matricielle\". "
   ]
  },
  {
   "cell_type": "code",
   "execution_count": 127,
   "metadata": {
    "colab": {},
    "colab_type": "code",
    "id": "NtP9d0Pz8FnL"
   },
   "outputs": [],
   "source": [
    "import nltk\n",
    "from numpy import array, ones, zeros\n",
    "import sys\n",
    "\n",
    "# Some words in test could be unseen during training, or out of the vocabulary (OOV) even during the training. \n",
    "# To manage OOVs, all words out the vocabulary are mapped on a special token: UNK defined as follows: \n",
    "UNK = \"<unk>\" \n",
    "UNKid = 0 \n",
    "\n",
    "class HMM:\n",
    "        def __init__(self, state_list, observation_list,\n",
    "                 transition_proba = None,\n",
    "                 observation_proba = None,\n",
    "                 initial_state_proba = None):\n",
    "            \"\"\"Builds a new Hidden Markov Model\n",
    "            state_list is the list of state symbols [q_0...q_(N-1)]\n",
    "            observation_list is the list of observation symbols [v_0...v_(M-1)]\n",
    "            transition_proba is the transition probability matrix\n",
    "                [a_ij] a_ij = Pr(Y_(t+1)=q_i|Y_t=q_j)\n",
    "            observation_proba is the observation probablility matrix\n",
    "                [b_ki] b_ki = Pr(X_t=v_k|Y_t=q_i)\n",
    "            initial_state_proba is the initial state distribution\n",
    "                [pi_i] pi_i = Pr(Y_0=q_i)\"\"\"\n",
    "            print(\"HMM created with: \")\n",
    "            self.N = len(state_list) # The number of states\n",
    "            self.M = len(observation_list) # The number of words in the vocabulary\n",
    "            print(str(self.N)+\" states\")\n",
    "            print(str(self.M)+\" observations\")\n",
    "            self.omega_Y = state_list # Keep the vocabulary of tags\n",
    "            self.omega_X = observation_list # Keep the vocabulary of tags\n",
    "            # Init. of the 3 distributions : observation, transition and initial states\n",
    "            if transition_proba is None:\n",
    "                self.transition_proba = zeros( (self.N, self.N), float) \n",
    "            else:\n",
    "                self.transition_proba=transition_proba\n",
    "            if observation_proba is None:\n",
    "                self.observation_proba = zeros( (self.M, self.N), float) \n",
    "            else:\n",
    "                self.observation_proba=observation_proba\n",
    "            if initial_state_proba is None:\n",
    "                self.initial_state_proba = zeros( (self.N,), float ) \n",
    "            else:\n",
    "                self.initial_state_proba=initial_state_proba\n",
    "            # Since everything will be stored in numpy arrays, it is more convenient and compact to \n",
    "            # handle words and tags as indices (integer) for a direct access. However, we also need \n",
    "            # to keep the mapping between strings (word or tag) and indices. \n",
    "            self.make_indexes()\n",
    "\n",
    "        def make_indexes(self):\n",
    "            \"\"\"Creates the reverse table that maps states/observations names\n",
    "            to their index in the probabilities arrays\"\"\"\n",
    "            self.Y_index = {}\n",
    "            omega_Y_keys = [key for key in self.omega_Y.keys()]\n",
    "            omega_X_keys = [key for key in self.omega_X.keys()]\n",
    "            for i in range(self.N):\n",
    "                self.Y_index[omega_Y_keys[i]] = i\n",
    "            self.X_index = {}\n",
    "            for i in range(self.M):\n",
    "                self.X_index[omega_X_keys[i]] = i\n",
    "                \n",
    "        def get_X_index(self, word):\n",
    "            if word in self.X_index:\n",
    "                return word\n",
    "            else:\n",
    "                return UNK\n",
    "        \n",
    "        def compute_init_state_proba(self):\n",
    "            vals = np.array([val for val in self.omega_Y.values()])\n",
    "            sum_vals = sum(vals)\n",
    "            self.initial_state_proba =  vals / sum_vals\n",
    "            \n",
    "        def compute_observation_probas(self, data):            \n",
    "            for phr in data:\n",
    "                for word in phr:\n",
    "                    x = self.X_index[self.get_X_index(word[0])]\n",
    "                    y = self.Y_index[word[1]]\n",
    "                    self.observation_proba[x][y] += 1\n",
    "            self.observation_proba /= np.sum(self.observation_proba, axis=1)[:, np.newaxis]\n",
    "             \n",
    "        def compute_transition_probas(self, data):            \n",
    "            for phr in data:\n",
    "                for i in range(1, len(phr)):\n",
    "                    yminus1 = self.Y_index[phr[i - 1][1]]\n",
    "                    y = self.Y_index[phr[i][1]]\n",
    "                    self.transition_proba[yminus1][y] += 1\n",
    "            self.transition_proba /= np.sum(self.transition_proba, axis=1)[:, np.newaxis]\n",
    "            \n",
    "        def init_parameters(self, train_set):\n",
    "            self.compute_init_state_proba()\n",
    "            self.compute_observation_probas(train_set)\n",
    "            self.compute_transition_probas(train_set)\n",
    "            \n",
    "        def forward(self, obs):\n",
    "            alpha = np.zeros((len(obs), len(self.Y_index)))\n",
    "            alpha[0] = self.initial_state_proba * self.observation_proba[self.X_index[self.get_X_index(obs[0][0])]]\n",
    "            for i in range(1, len(alpha)):\n",
    "                alpha[i] = self.observation_proba[self.X_index[self.get_X_index(obs[i][0])]] *\\\n",
    "                np.sum(self.transition_proba * alpha[i - 1])\n",
    "            return alpha\n",
    "        \n",
    "        def backward(self, obs):\n",
    "            beta = np.zeros((len(obs), len(self.Y_index)))\n",
    "            beta[-1] = ones(len(self.Y_index))\n",
    "            for i in range(len(obs) - 2, -1, -1):\n",
    "                beta[i] = np.sum(beta[i + 1] * self.observation_proba[self.X_index[self.get_X_index(obs[i + 1][0])]]\\\n",
    "                                 * self.transition_proba)\n",
    "            return beta\n",
    "        \n",
    "        def decode(self, alpha, beta):\n",
    "            prob = alpha * beta\n",
    "            preds = prob.argmax(axis=1)\n",
    "            keys = [key for key in self.omega_Y.keys()]\n",
    "            return [keys[pred_ind] for pred_ind in preds]\n",
    "        \n",
    "        def viterbi(self, obs):\n",
    "            mu = np.zeros((len(obs), len(self.Y_index)))\n",
    "            mu_max = np.zeros(len(obs))\n",
    "            mu[0] = self.initial_state_proba * self.observation_proba[self.X_index[self.get_X_index(obs[0][0])]]\n",
    "            index = [np.argmax(mu[0])]\n",
    "            mu_max[0] = max(mu[0])\n",
    "            for i in range(1, len(obs)):\n",
    "                obs_prob = self.observation_proba[self.X_index[self.get_X_index(obs[i][0])]]\n",
    "                trans_prob = self.transition_proba[self.Y_index[obs[i][1]]]\n",
    "                mu[i] = obs_prob * trans_prob * mu_max[i - 1]\n",
    "                index.append(np.argmax(mu[i]))\n",
    "                mu_max[i] = max(mu[i])\n",
    "            keys = [key for key in self.omega_Y.keys()]\n",
    "            return [keys[ind] for ind in index]\n",
    "            \n",
    "        def score_eval(self, test):\n",
    "            error = 0\n",
    "            elements = 0\n",
    "            for sentence in test:\n",
    "                truth = [tag for (_, tag) in sentence]\n",
    "                alpha = self.forward(sentence)\n",
    "                beta = self.backward(sentence)\n",
    "                preds = self.decode(alpha, beta)\n",
    "                elements += len(preds)\n",
    "                for pred, y in zip(truth, preds):\n",
    "                    if pred != y:\n",
    "                        error += 1\n",
    "            return error / elements\n",
    "        \n",
    "        def score_viterbi(self, test):\n",
    "            error = 0\n",
    "            elements = 0\n",
    "            for sentence in test:\n",
    "                truth = [tag for (_, tag) in sentence]\n",
    "                preds = self.viterbi(sentence)\n",
    "                elements += len(preds)\n",
    "                for pred, y in zip(truth, preds):\n",
    "                    if pred != y:\n",
    "                        error += 1\n",
    "            return error / elements"
   ]
  },
  {
   "cell_type": "markdown",
   "metadata": {
    "colab_type": "text",
    "id": "NuO2bOCE8FnR"
   },
   "source": [
    "# Interface avec les données et apprentissage supervisé\n",
    "\n",
    "Ainsi pour initialiser un HMM, nous allons devoir lire les données (chose faîte lors du TP précédent): \n",
    "* écrire une fonction permettant d'initialiser le HMM à partir des données d'apprentissage\n",
    "* écrire une fonction *apprentissage_supervisé* qui permet d'estimer les paramètres \n",
    "\n",
    "Dans un premier temps, nous limiterons, comme lors du TP précédent, le vocabulaire aux mots apparaissant 10 fois ou plus. Les autres mots sont tous remplacés par la même forme *unk*\n",
    "\n",
    "Pour cela, le plan de travail peut être envisagé ainsi: \n",
    "* Lire les données puis générer un corpus de **train** (80%) puis de **test** (10%)\n",
    "* écrire une fonction qui créer à partir des données d'apprentissage (**train**), tous les comptes nécessaires pour l'estimation supervisée des paramètres du HMM\n",
    "* écrire 3 fonctions qui estiment les paramètres à partir des comptes, une fonction par distribution: observation, transition, état initial. \n",
    "* écrire une fonction qui reprend le tout et qui estime tous les paramètres du HMM\n",
    "\n",
    "\n",
    "# Exercice : Algorithme de Viterbi\n",
    "\n",
    "La question qui se pose est comment calculer la meilleure séquence d'étiquettes pour une phrase donnée connaissant les paramètres du HMM. Par meilleure, on entend la séquence d'étiquettes (ou d'états) la plus probable connaissant la séquence d'obervation. \n",
    "\n",
    "Proposer et implémenter un algorithme répondant à cette question. Pour vous aider à démarrer, cet algorithme s'appelle Viterbi et regardez cette vidéo https://www.youtube.com/watch?v=RwwfUICZLsA, pour comprendre comment il opère. \n",
    "\n",
    "# TODO pour la prochaine fois\n",
    "\n",
    "* Finir la partie interface (qui comprend l'apprentissage supervisé)\n",
    "* Regarder la vidéo et implémenter l'algorithme de Viterbi\n",
    "\n",
    "\n"
   ]
  },
  {
   "cell_type": "markdown",
   "metadata": {},
   "source": [
    "## Lecture & séparation des données"
   ]
  },
  {
   "cell_type": "code",
   "execution_count": 3,
   "metadata": {
    "colab": {},
    "colab_type": "code",
    "id": "YO0E0GvD8FnS"
   },
   "outputs": [],
   "source": [
    "import pickle\n",
    "import numpy as np"
   ]
  },
  {
   "cell_type": "code",
   "execution_count": 5,
   "metadata": {},
   "outputs": [],
   "source": [
    "data = pickle.load(open(\"brown.save.p\", \"rb\" ))"
   ]
  },
  {
   "cell_type": "code",
   "execution_count": 6,
   "metadata": {},
   "outputs": [],
   "source": [
    "np.random.shuffle(data)\n",
    "end_train = int(0.8 * len(data))\n",
    "end_valid = int(0.9 * len(data))\n",
    "train = data[:end_train]\n",
    "valid = data[end_train:end_valid]\n",
    "test = data[end_valid:]"
   ]
  },
  {
   "cell_type": "markdown",
   "metadata": {},
   "source": [
    "## Création du vocabulaire & du HMM"
   ]
  },
  {
   "cell_type": "code",
   "execution_count": 7,
   "metadata": {},
   "outputs": [],
   "source": [
    "def clean_voc(dict_word, count_min):\n",
    "    new_dict = dict()\n",
    "    new_dict['<unk>'] = 0\n",
    "    for key, val in dict_word.items():\n",
    "        if val < count_min: \n",
    "            new_dict['<unk>'] += val\n",
    "        else:\n",
    "            new_dict[key] = val\n",
    "    return new_dict\n",
    "\n",
    "def distrib_x_y_data(data):\n",
    "    set_tag = []\n",
    "    set_mot = []\n",
    "    dict_tag = dict()\n",
    "    dict_mot = dict()\n",
    "    for phrase in data:\n",
    "        for mot in phrase:\n",
    "            if not(mot[1] in set_tag):\n",
    "                set_tag.append(mot[1])\n",
    "                dict_tag[mot[1]]=0\n",
    "            dict_tag[mot[1]]+=1\n",
    "            if not(mot[0] in set_mot):\n",
    "                set_mot.append(mot[0])\n",
    "                dict_mot[mot[0]]=0\n",
    "            dict_mot[mot[0]]+=1\n",
    "    return clean_voc(dict_mot, 10), dict_tag"
   ]
  },
  {
   "cell_type": "code",
   "execution_count": 9,
   "metadata": {},
   "outputs": [],
   "source": [
    "X_train, y_train = distrib_x_y_data(train)"
   ]
  },
  {
   "cell_type": "code",
   "execution_count": 128,
   "metadata": {},
   "outputs": [
    {
     "name": "stdout",
     "output_type": "stream",
     "text": [
      "HMM created with: \n",
      "12 states\n",
      "7603 observations\n"
     ]
    }
   ],
   "source": [
    "hmm_train = HMM(y_train, X_train)"
   ]
  },
  {
   "cell_type": "code",
   "execution_count": 129,
   "metadata": {},
   "outputs": [],
   "source": [
    "hmm_train.init_parameters(train)"
   ]
  },
  {
   "cell_type": "code",
   "execution_count": 130,
   "metadata": {},
   "outputs": [
    {
     "name": "stdout",
     "output_type": "stream",
     "text": [
      "{'ADJ': 67119, 'NOUN': 220121, 'ADP': 115720, 'DET': 109684, 'VERB': 146264, 'ADV': 44892, 'PRT': 23813, '.': 117951, 'PRON': 39491, 'NUM': 11815, 'CONJ': 30527, 'X': 1138}\n"
     ]
    }
   ],
   "source": [
    "print(hmm_train.omega_Y)"
   ]
  },
  {
   "cell_type": "code",
   "execution_count": 131,
   "metadata": {},
   "outputs": [
    {
     "name": "stdout",
     "output_type": "stream",
     "text": [
      "[('Yin', 'NOUN'), ('and', 'CONJ'), ('Yang', 'NOUN'), ('in', 'ADP'), ('the', 'DET'), ('``', '.'), ('Lo', 'NOUN'), ('Shu', 'NOUN'), (\"''\", '.'), ('square', 'NOUN')]\n"
     ]
    }
   ],
   "source": [
    "sent = train[15]\n",
    "print(sent)"
   ]
  },
  {
   "cell_type": "code",
   "execution_count": 132,
   "metadata": {},
   "outputs": [
    {
     "name": "stdout",
     "output_type": "stream",
     "text": [
      "['NOUN', 'CONJ', 'NOUN', 'ADP', 'DET', '.', 'NOUN', 'NOUN', '.', 'NOUN']\n"
     ]
    }
   ],
   "source": [
    "vit = hmm_train.viterbi(sent)\n",
    "print(vit)"
   ]
  },
  {
   "cell_type": "code",
   "execution_count": 133,
   "metadata": {},
   "outputs": [],
   "source": [
    "error_valid = hmm_train.score_eval(valid)\n",
    "viterbi_error_valid = hmm_train.score_viterbi(valid)"
   ]
  },
  {
   "cell_type": "code",
   "execution_count": 134,
   "metadata": {},
   "outputs": [
    {
     "name": "stdout",
     "output_type": "stream",
     "text": [
      "Error = 8.54%\n",
      "Error = 10.46%\n"
     ]
    }
   ],
   "source": [
    "print(\"Error = {:.2%}\".format(error_valid))\n",
    "print(\"Error = {:.2%}\".format(viterbi_error_valid))"
   ]
  },
  {
   "cell_type": "code",
   "execution_count": 135,
   "metadata": {},
   "outputs": [],
   "source": [
    "error_test = hmm_train.score_eval(test)\n",
    "viterbi_error_test = hmm_train.score_viterbi(test)"
   ]
  },
  {
   "cell_type": "code",
   "execution_count": 136,
   "metadata": {},
   "outputs": [
    {
     "name": "stdout",
     "output_type": "stream",
     "text": [
      "Error = 8.64%\n",
      "Error = 10.58%\n"
     ]
    }
   ],
   "source": [
    "print(\"Error = {:.2%}\".format(error_test))\n",
    "print(\"Error = {:.2%}\".format(viterbi_error_test))"
   ]
  },
  {
   "cell_type": "code",
   "execution_count": null,
   "metadata": {},
   "outputs": [],
   "source": []
  }
 ],
 "metadata": {
  "colab": {
   "name": "TC4-tp2.ipynb",
   "provenance": [],
   "version": "0.3.2"
  },
  "kernelspec": {
   "display_name": "Python 3",
   "language": "python",
   "name": "python3"
  },
  "language_info": {
   "codemirror_mode": {
    "name": "ipython",
    "version": 3
   },
   "file_extension": ".py",
   "mimetype": "text/x-python",
   "name": "python",
   "nbconvert_exporter": "python",
   "pygments_lexer": "ipython3",
   "version": "3.7.1"
  }
 },
 "nbformat": 4,
 "nbformat_minor": 1
}
