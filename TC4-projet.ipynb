{
 "cells": [
  {
   "cell_type": "code",
   "execution_count": 1,
   "metadata": {},
   "outputs": [],
   "source": [
    "import pickle\n",
    "train10 = pickle.load( open( \"./typos-data/train10.pkl\", \"rb\" ) )\n",
    "train20 = pickle.load( open( \"./typos-data/train20.pkl\", \"rb\" ) )\n",
    "test10 = pickle.load( open( \"./typos-data/test10.pkl\", \"rb\" ) )\n",
    "test20 = pickle.load( open( \"./typos-data/test20.pkl\", \"rb\" ) )"
   ]
  },
  {
   "cell_type": "code",
   "execution_count": 2,
   "metadata": {},
   "outputs": [
    {
     "name": "stdout",
     "output_type": "stream",
     "text": [
      "length of train10 :  29057\n",
      "length of train20 :  27184\n",
      "length of test10 :  1501\n",
      "length of test20 :  3374\n"
     ]
    }
   ],
   "source": [
    "print(\"length of train10 : \",len(train10))\n",
    "print(\"length of train20 : \",len(train20))\n",
    "print(\"length of test10 : \",len(test10))\n",
    "print(\"length of test20 : \",len(test20))"
   ]
  },
  {
   "cell_type": "code",
   "execution_count": 3,
   "metadata": {},
   "outputs": [],
   "source": [
    "observation_list=[]\n",
    "state_list=[]\n",
    "for mot in train10:\n",
    "    for (l1,l2) in mot:\n",
    "        observation_list.append(l1)\n",
    "        state_list.append(l2)\n",
    "observation_list=list(set(observation_list))\n",
    "state_list=list(set(state_list))"
   ]
  },
  {
   "cell_type": "code",
   "execution_count": 272,
   "metadata": {},
   "outputs": [],
   "source": [
    "import nltk\n",
    "from numpy import array, ones, zeros, multiply\n",
    "import numpy as np\n",
    "import sys\n",
    "from pandas import Series, DataFrame\n",
    "\n",
    "# construc the first order HMM Model\n",
    "\n",
    "UNK = \"<unk>\"\n",
    "UNKid = 0\n",
    "epsilon = 1e-100\n",
    "\n",
    "class HMM:\n",
    "        def __init__(self, state_list, observation_list, train,test,\n",
    "                 transition_proba = None,\n",
    "                 observation_proba = None,\n",
    "                 initial_state_proba = None, smoothing_obs = 0.01):\n",
    "            \"\"\"\n",
    "            Builds a Hidden Markov Model\n",
    "            * state_list is the list of state symbols [q_0...q_(N-1)]\n",
    "            * observation_list is the list of observation symbols [v_0...v_(M-1)]\n",
    "            * transition_proba is the transition probability matrix\n",
    "                [a_ij] a_ij = Pr(Y_(t+1)=q_i|Y_t=q_j)\n",
    "            * observation_proba is the observation probablility matrix\n",
    "                [b_ki] b_ki = Pr(X_t=v_k|Y_t=q_i)\n",
    "            * initial_state_proba is the initial state distribution\n",
    "                [pi_i] pi_i = Pr(Y_0=q_i)\"\"\"\n",
    "            print(\"HMM creating with: \")\n",
    "            self.N = len(state_list)       # number of states\n",
    "            self.M = len(observation_list) # number of possible emissions\n",
    "            print(str(self.N)+\" states\")\n",
    "            print(str(self.M)+\" observations\")\n",
    "            self.train=train\n",
    "            self.omega_Y = state_list\n",
    "            self.omega_X = observation_list\n",
    "            if transition_proba is None:\n",
    "                self.transition_proba = zeros( (self.N, self.N), float) \n",
    "            else:\n",
    "                self.transition_proba=transition_proba\n",
    "            if observation_proba is None:\n",
    "                self.observation_proba = zeros( (self.M, self.N), float) \n",
    "            else:\n",
    "                self.observation_proba=observation_proba\n",
    "            if initial_state_proba is None:\n",
    "                self.initial_state_proba = zeros( (self.N,), float ) \n",
    "            else:\n",
    "                self.initial_state_proba=initial_state_proba\n",
    "            self.make_indexes() # build indexes, i.e the mapping between token and int\n",
    "            self.data2index()\n",
    "            self.calculer_pi()\n",
    "            self.calculer_A()\n",
    "            self.calculer_B()\n",
    "            \n",
    "        def make_indexes(self):\n",
    "            \"\"\"Creates the reverse table that maps states/observations names\n",
    "            to their index in the probabilities array\"\"\"\n",
    "            self.Y_index = {}\n",
    "            for i in range(self.N):\n",
    "                self.Y_index[self.omega_Y[i]] = i\n",
    "            self.X_index = {}\n",
    "            for i in range(self.M):\n",
    "                self.X_index[self.omega_X[i]] = i\n",
    "        \n",
    "        def data2index(self):\n",
    "            self.Y_char={}\n",
    "            for i in self.Y_index:\n",
    "                self.Y_char[self.Y_index[i]]=i\n",
    "        \n",
    "        def calculer_pi(self):\n",
    "            for word in self.train:\n",
    "                self.initial_state_proba[self.Y_index[word[0][1]]]+=1\n",
    "#             print(self.initial_state_proba)\n",
    "            self.initial_state_proba/=len(self.train)\n",
    "        def calculer_A(self):\n",
    "            s=0\n",
    "            for word in self.train:\n",
    "                for i in range(len(word)-1):\n",
    "                    s+=1\n",
    "                    w1=self.Y_index[word[i][1]]\n",
    "                    w2=self.Y_index[word[i+1][1]]\n",
    "                    self.transition_proba[w1][w2]+=1\n",
    "            tmp=self.transition_proba.T\n",
    "            self.transition_proba=(tmp/self.transition_proba.sum(axis=1)).T\n",
    "        \n",
    "        def calculer_B(self):\n",
    "            s=0\n",
    "            for word in self.train:\n",
    "                for i in range(len(word)):\n",
    "                    s+=1\n",
    "                    w1=self.Y_index[word[i][1]]\n",
    "                    w2=self.X_index[word[i][0]]\n",
    "                    self.observation_proba[w1][w2]+=1\n",
    "            tmp=self.observation_proba.T\n",
    "            self.observation_proba=(tmp/self.observation_proba.sum(axis=1)).T\n",
    "            \n",
    "        def calculer_alpha(self,word):            \n",
    "            alpha=np.zeros((len(self.Y_index),len(word)),float)\n",
    "            alpha[:,0]=self.initial_state_proba*self.observation_proba[:,self.X_index[word[0][0]]]\n",
    "            if len(word)==1:\n",
    "                return alpha\n",
    "            for i in range(1,len(word)):\n",
    "                alpha[:,i]=(alpha[:,i-1]*self.transition_proba.T).sum(axis=1)*\\\n",
    "                self.observation_proba[:,self.X_index[word[i][0]]]\n",
    "            return alpha\n",
    "        \n",
    "        def calculer_beta(self,word):\n",
    "            beta=np.zeros((len(self.Y_index),len(word)),float)\n",
    "            beta[:,-1]=1\n",
    "            if len(word)==1:\n",
    "                return beta\n",
    "            for i in range(len(word)-2,-1,-1):\n",
    "                beta[:,i]=(self.transition_proba*self.observation_proba[:,self.X_index[word[i+1][0]]]*\\\n",
    "                           beta[:,i+1]).sum(axis=1)\n",
    "            return beta\n",
    "        \n",
    "        def FB(self,alpha,beta):\n",
    "            prob = alpha * beta\n",
    "            index=list(prob.argmax(axis=0))\n",
    "#             print(index)\n",
    "            r=[self.Y_char[i] for i in index]\n",
    "            return r\n",
    "    \n",
    "        def viterbi(self,word):\n",
    "            N=len(self.Y_index)\n",
    "            delta=np.zeros(N, float)\n",
    "            delta_t=np.zeros(N, float)\n",
    "            tmp=np.zeros(N, float)\n",
    "            index=np.zeros((len(word),N), int)\n",
    "            delta=self.initial_state_proba*self.observation_proba[:,self.X_index[word[0][0]]]\n",
    "            for t in range(1, len(word)):\n",
    "                p=self.X_index[word[t][0]]\n",
    "                for j in range(len(self.Y_index)):\n",
    "                    tmp=delta*self.transition_proba[:,j]\n",
    "                    index[t,j]=tmp.argmax()\n",
    "                    delta_t[j]=tmp[index[t,j]]*self.observation_proba[j,p]\n",
    "                delta, delta_t = delta_t, delta\n",
    "            result=[delta.argmax()]\n",
    "            for i in index[-1:0:-1]:\n",
    "                result.append(i[result[-1]])\n",
    "            result.reverse()\n",
    "            r=[self.Y_char[i] for i in result]\n",
    "            return r"
   ]
  },
  {
   "cell_type": "code",
   "execution_count": 273,
   "metadata": {},
   "outputs": [
    {
     "name": "stdout",
     "output_type": "stream",
     "text": [
      "HMM creating with: \n",
      "26 states\n",
      "26 observations\n",
      "{'d': 0, 'h': 1, 'c': 2, 'x': 3, 'm': 4, 'k': 5, 'j': 6, 'r': 7, 'n': 8, 'b': 9, 'e': 10, 'q': 11, 'f': 12, 'v': 13, 'a': 14, 't': 15, 'i': 16, 'o': 17, 'z': 18, 'l': 19, 's': 20, 'u': 21, 'p': 22, 'w': 23, 'y': 24, 'g': 25}\n",
      "{'d': 0, 'h': 1, 'c': 2, 'x': 3, 'm': 4, 'k': 5, 'j': 6, 'r': 7, 'n': 8, 'b': 9, 'e': 10, 'q': 11, 'f': 12, 'v': 13, 'a': 14, 't': 15, 'i': 16, 'o': 17, 'z': 18, 'l': 19, 's': 20, 'u': 21, 'p': 22, 'w': 23, 'y': 24, 'g': 25}\n"
     ]
    }
   ],
   "source": [
    "model=HMM(state_list,observation_list,train10,None)\n",
    "\n",
    "print(model.X_index)\n",
    "print(model.Y_index)"
   ]
  },
  {
   "cell_type": "code",
   "execution_count": 274,
   "metadata": {},
   "outputs": [
    {
     "name": "stdout",
     "output_type": "stream",
     "text": [
      "[('c', 'c'), ('o', 'o'), ('m', 'm'), ('p', 'p'), ('l', 'l'), ('e', 'e'), ('x', 'x')]\n",
      "['c', 'o', 'm', 'p', 'l', 'e', 'x']\n",
      "['c', 'o', 'm', 'p', 'l', 'e', 'x']\n"
     ]
    }
   ],
   "source": [
    "word=train10[100]\n",
    "alpha=model.calculer_alpha(word)\n",
    "beta=model.calculer_beta(word)\n",
    "print(word)\n",
    "print(model.FB(alpha,beta))\n",
    "print(model.viterbi(word))"
   ]
  },
  {
   "cell_type": "code",
   "execution_count": 275,
   "metadata": {},
   "outputs": [
    {
     "name": "stdout",
     "output_type": "stream",
     "text": [
      "[('c', 'c'), ('o', 'o'), ('m', 'm'), ('p', 'p'), ('l', 'l'), ('e', 'e'), ('x', 'x')]\n",
      "['c', 'o', 'm', 'p', 'l', 'e', 'x']\n",
      "['c', 'o', 'm', 'p', 'l', 'e', 'x']\n"
     ]
    }
   ],
   "source": [
    "word=train10[100]\n",
    "alpha=model.calculer_alpha(word)\n",
    "beta=model.calculer_beta(word)\n",
    "print(word)\n",
    "print(model.FB(alpha,beta))\n",
    "print(model.viterbi(word))"
   ]
  },
  {
   "cell_type": "code",
   "execution_count": 276,
   "metadata": {},
   "outputs": [
    {
     "name": "stdout",
     "output_type": "stream",
     "text": [
      "0.0680327868852459\n"
     ]
    }
   ],
   "source": [
    "s=0\n",
    "e=0\n",
    "for word in test10:\n",
    "    nword=model.viterbi(word)\n",
    "    for i,j in zip(word,nword):\n",
    "        s+=1\n",
    "        if i[1]!=j:\n",
    "            e+=1\n",
    "print(e/s)"
   ]
  },
  {
   "cell_type": "code",
   "execution_count": 277,
   "metadata": {},
   "outputs": [
    {
     "name": "stdout",
     "output_type": "stream",
     "text": [
      "0.06762295081967214\n"
     ]
    }
   ],
   "source": [
    "s=0\n",
    "e=0\n",
    "for word in test10:\n",
    "    alpha=model.calculer_alpha(word)\n",
    "    beta=model.calculer_beta(word)\n",
    "    nword=model.FB(alpha,beta)\n",
    "    for i,j in zip(word,nword):\n",
    "        s+=1\n",
    "        if i[1]!=j:\n",
    "            e+=1\n",
    "print(e/s)"
   ]
  },
  {
   "cell_type": "code",
   "execution_count": 278,
   "metadata": {},
   "outputs": [
    {
     "name": "stdout",
     "output_type": "stream",
     "text": [
      "0.10177595628415301\n"
     ]
    }
   ],
   "source": [
    "s=0\n",
    "e=0\n",
    "for word in test10:\n",
    "    for l in word:\n",
    "        s+=1\n",
    "        if l[0]!=l[1]:\n",
    "            e+=1\n",
    "print(e/s)"
   ]
  },
  {
   "cell_type": "code",
   "execution_count": null,
   "metadata": {},
   "outputs": [],
   "source": []
  }
 ],
 "metadata": {
  "kernelspec": {
   "display_name": "Python 3",
   "language": "python",
   "name": "python3"
  },
  "language_info": {
   "codemirror_mode": {
    "name": "ipython",
    "version": 3
   },
   "file_extension": ".py",
   "mimetype": "text/x-python",
   "name": "python",
   "nbconvert_exporter": "python",
   "pygments_lexer": "ipython3",
   "version": "3.6.6"
  }
 },
 "nbformat": 4,
 "nbformat_minor": 2
}
